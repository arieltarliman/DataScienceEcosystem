{
  "cells": [
    {
      "cell_type": "markdown",
      "metadata": {
        "id": "view-in-github",
        "colab_type": "text"
      },
      "source": [
        "<a href=\"https://colab.research.google.com/github/arieltarliman/DataScienceEcosystem/blob/main/DataScienceEcosystem.ipynb\" target=\"_parent\"><img src=\"https://colab.research.google.com/assets/colab-badge.svg\" alt=\"Open In Colab\"/></a>"
      ]
    },
    {
      "cell_type": "markdown",
      "metadata": {
        "id": "ZdPgzRSPGkfe"
      },
      "source": [
        "<center>\n",
        "    <img src=\"https://cf-courses-data.s3.us.cloud-object-storage.appdomain.cloud/IBMDeveloperSkillsNetwork-DS0105EN-SkillsNetwork/labs/Module2/images/SN_web_lightmode.png\" width=\"300\" alt=\"cognitiveclass.ai logo\">\n",
        "</center>\n"
      ]
    },
    {
      "cell_type": "markdown",
      "metadata": {
        "id": "Ow5mMU7PGkff"
      },
      "source": [
        "# Data Science Tool and Ecosystem\n"
      ]
    },
    {
      "cell_type": "markdown",
      "metadata": {
        "id": "PTz4alPFGkff"
      },
      "source": [
        "In this notebook, Data Science Tools and Ecosystem are summarized.\n"
      ]
    },
    {
      "cell_type": "markdown",
      "source": [
        "**Objectives:**\n",
        "\n",
        "\n",
        "*   Undsertand popular languages used as a Data Scientist\n",
        "*   Understand the commonly used libraries used by Data Scientist\n",
        "*   Understand arithmetic expressions in Python\n",
        "\n",
        "\n",
        "\n",
        "\n"
      ],
      "metadata": {
        "id": "z1VwUpkxJCdV"
      }
    },
    {
      "cell_type": "markdown",
      "metadata": {
        "id": "g5LsqU5RGkfg"
      },
      "source": [
        "Some of the popular languages that Data Scientists use are:\n",
        "1. phyton\n",
        "2. r\n",
        "3. sql\n",
        "4. scala\n",
        "5. java\n",
        "6. c++"
      ]
    },
    {
      "cell_type": "markdown",
      "metadata": {
        "id": "clSKuI91Gkfg"
      },
      "source": [
        "Some of the commonly used libraries used by Data Scientists include:\n",
        "1. Pandas\n",
        "2. Numpy\n",
        "3. Matplotlib\n",
        "4. Seaborn\n",
        "5. Sckit learn"
      ]
    },
    {
      "cell_type": "markdown",
      "metadata": {
        "id": "nh37YVfyGkfg"
      },
      "source": [
        "| Data Science Tools |\n",
        "| --- |\n",
        "| MySQL |\n",
        "| PostgreSQL |\n",
        "| Tableau |"
      ]
    },
    {
      "cell_type": "markdown",
      "metadata": {
        "id": "0glb8p6MGkfg"
      },
      "source": [
        "### Below are a few examples of evaluating arithmetic expressions in Python\n",
        "1. \"+\" example: 1+1 = 2\n",
        "2. \"-\" example: 4-2 = 2"
      ]
    },
    {
      "cell_type": "code",
      "execution_count": 1,
      "metadata": {
        "colab": {
          "base_uri": "https://localhost:8080/"
        },
        "id": "t-2OhU_yGkfg",
        "outputId": "ccc0339d-c3fd-4bc4-b73b-4c0691d8cfe8"
      },
      "outputs": [
        {
          "output_type": "execute_result",
          "data": {
            "text/plain": [
              "17"
            ]
          },
          "metadata": {},
          "execution_count": 1
        }
      ],
      "source": [
        "(3*4)+5\n",
        "# This a simple arithmetic expression to mutiply then add integers"
      ]
    },
    {
      "cell_type": "code",
      "source": [
        "x = round(200/60 , 1)\n",
        "print(str(x)+ \" hours\")\n",
        " #This will convert 200 minutes to hours by diving by 60"
      ],
      "metadata": {
        "colab": {
          "base_uri": "https://localhost:8080/"
        },
        "id": "CemZswwMG-sU",
        "outputId": "05ff3b78-698c-46be-afe1-7830b2dea197"
      },
      "execution_count": 7,
      "outputs": [
        {
          "output_type": "stream",
          "name": "stdout",
          "text": [
            "3.3 hours\n"
          ]
        }
      ]
    },
    {
      "cell_type": "markdown",
      "source": [
        "Author:\n",
        "## Arieldhipta Tarliman"
      ],
      "metadata": {
        "id": "gGpsP7I5J_6E"
      }
    }
  ],
  "metadata": {
    "kernelspec": {
      "display_name": "Python 3",
      "language": "python",
      "name": "python3"
    },
    "language_info": {
      "name": "python",
      "version": "3.11.4"
    },
    "colab": {
      "provenance": [],
      "include_colab_link": true
    }
  },
  "nbformat": 4,
  "nbformat_minor": 0
}